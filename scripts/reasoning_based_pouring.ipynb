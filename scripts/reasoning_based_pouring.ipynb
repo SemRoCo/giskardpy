{
 "cells": [
  {
   "cell_type": "code",
   "execution_count": 1,
   "metadata": {
    "collapsed": true,
    "pycharm": {
     "name": "#%%\n"
    }
   },
   "outputs": [],
   "source": [
    "import rospy\n",
    "from giskardpy.python_interface.python_interface import GiskardWrapper\n",
    "import numpy as np\n",
    "from geometry_msgs.msg import PoseStamped, Point, Quaternion, Vector3Stamped\n",
    "from tf.transformations import quaternion_from_matrix, quaternion_about_axis\n",
    "from giskardpy.goals.adaptive_goals import CloseGripper, PouringAdaptiveTilt"
   ]
  },
  {
   "cell_type": "code",
   "execution_count": 2,
   "outputs": [],
   "source": [
    "rospy.init_node('giskard_notebook')"
   ],
   "metadata": {
    "collapsed": false,
    "pycharm": {
     "name": "#%%\n"
    }
   }
  },
  {
   "cell_type": "code",
   "execution_count": 5,
   "outputs": [],
   "source": [
    "gs = GiskardWrapper()"
   ],
   "metadata": {
    "collapsed": false,
    "pycharm": {
     "name": "#%%\n"
    }
   }
  },
  {
   "cell_type": "code",
   "execution_count": 6,
   "outputs": [
    {
     "ename": "KeyboardInterrupt",
     "evalue": "",
     "output_type": "error",
     "traceback": [
      "\u001B[0;31m---------------------------------------------------------------------------\u001B[0m",
      "\u001B[0;31mKeyboardInterrupt\u001B[0m                         Traceback (most recent call last)",
      "Cell \u001B[0;32mIn[6], line 78\u001B[0m\n\u001B[1;32m     76\u001B[0m gs\u001B[38;5;241m.\u001B[39mmotion_goals\u001B[38;5;241m.\u001B[39mallow_all_collisions()\n\u001B[1;32m     77\u001B[0m gs\u001B[38;5;241m.\u001B[39madd_default_end_motion_conditions()\n\u001B[0;32m---> 78\u001B[0m \u001B[43mgs\u001B[49m\u001B[38;5;241;43m.\u001B[39;49m\u001B[43mexecute\u001B[49m\u001B[43m(\u001B[49m\u001B[43m)\u001B[49m\n\u001B[1;32m     80\u001B[0m gs\u001B[38;5;241m.\u001B[39mmotion_goals\u001B[38;5;241m.\u001B[39madd_motion_goal(motion_goal_class\u001B[38;5;241m=\u001B[39mCloseGripper\u001B[38;5;241m.\u001B[39m\u001B[38;5;18m__name__\u001B[39m,\n\u001B[1;32m     81\u001B[0m                                 name\u001B[38;5;241m=\u001B[39m\u001B[38;5;124m'\u001B[39m\u001B[38;5;124mopenGripper\u001B[39m\u001B[38;5;124m'\u001B[39m,\n\u001B[1;32m     82\u001B[0m                                 as_open\u001B[38;5;241m=\u001B[39m\u001B[38;5;28;01mTrue\u001B[39;00m,\n\u001B[1;32m     83\u001B[0m                                 velocity_threshold\u001B[38;5;241m=\u001B[39m\u001B[38;5;241m100\u001B[39m,\n\u001B[1;32m     84\u001B[0m                                 effort_threshold\u001B[38;5;241m=\u001B[39m\u001B[38;5;241m1\u001B[39m,\n\u001B[1;32m     85\u001B[0m                                 effort\u001B[38;5;241m=\u001B[39m\u001B[38;5;241m100\u001B[39m)\n\u001B[1;32m     86\u001B[0m gs\u001B[38;5;241m.\u001B[39mmotion_goals\u001B[38;5;241m.\u001B[39mallow_all_collisions()\n",
      "File \u001B[0;32m~/workspace/new_giskard_ws/src/giskardpy/src/giskardpy/python_interface/python_interface.py:1433\u001B[0m, in \u001B[0;36mGiskardWrapper.execute\u001B[0;34m(self, wait)\u001B[0m\n\u001B[1;32m   1428\u001B[0m \u001B[38;5;28;01mdef\u001B[39;00m \u001B[38;5;21mexecute\u001B[39m(\u001B[38;5;28mself\u001B[39m, wait: \u001B[38;5;28mbool\u001B[39m \u001B[38;5;241m=\u001B[39m \u001B[38;5;28;01mTrue\u001B[39;00m) \u001B[38;5;241m-\u001B[39m\u001B[38;5;241m>\u001B[39m MoveResult:\n\u001B[1;32m   1429\u001B[0m \u001B[38;5;250m    \u001B[39m\u001B[38;5;124;03m\"\"\"\u001B[39;00m\n\u001B[1;32m   1430\u001B[0m \u001B[38;5;124;03m    :param wait: this function blocks if wait=True\u001B[39;00m\n\u001B[1;32m   1431\u001B[0m \u001B[38;5;124;03m    :return: result from giskard\u001B[39;00m\n\u001B[1;32m   1432\u001B[0m \u001B[38;5;124;03m    \"\"\"\u001B[39;00m\n\u001B[0;32m-> 1433\u001B[0m     \u001B[38;5;28;01mreturn\u001B[39;00m \u001B[38;5;28;43mself\u001B[39;49m\u001B[38;5;241;43m.\u001B[39;49m\u001B[43m_send_action_goal\u001B[49m\u001B[43m(\u001B[49m\u001B[43mMoveGoal\u001B[49m\u001B[38;5;241;43m.\u001B[39;49m\u001B[43mEXECUTE\u001B[49m\u001B[43m,\u001B[49m\u001B[43m \u001B[49m\u001B[43mwait\u001B[49m\u001B[43m)\u001B[49m\n",
      "File \u001B[0;32m~/workspace/new_giskard_ws/src/giskardpy/src/giskardpy/python_interface/python_interface.py:1454\u001B[0m, in \u001B[0;36mGiskardWrapper._send_action_goal\u001B[0;34m(self, goal_type, wait)\u001B[0m\n\u001B[1;32m   1452\u001B[0m goal\u001B[38;5;241m.\u001B[39mtype \u001B[38;5;241m=\u001B[39m goal_type\n\u001B[1;32m   1453\u001B[0m \u001B[38;5;28;01mif\u001B[39;00m wait:\n\u001B[0;32m-> 1454\u001B[0m     \u001B[38;5;28;43mself\u001B[39;49m\u001B[38;5;241;43m.\u001B[39;49m\u001B[43m_client\u001B[49m\u001B[38;5;241;43m.\u001B[39;49m\u001B[43msend_goal_and_wait\u001B[49m\u001B[43m(\u001B[49m\u001B[43mgoal\u001B[49m\u001B[43m)\u001B[49m\n\u001B[1;32m   1455\u001B[0m     \u001B[38;5;28;01mreturn\u001B[39;00m \u001B[38;5;28mself\u001B[39m\u001B[38;5;241m.\u001B[39m_client\u001B[38;5;241m.\u001B[39mget_result()\n\u001B[1;32m   1456\u001B[0m \u001B[38;5;28;01melse\u001B[39;00m:\n",
      "File \u001B[0;32m/opt/ros/noetic/lib/python3/dist-packages/actionlib/simple_action_client.py:111\u001B[0m, in \u001B[0;36mSimpleActionClient.send_goal_and_wait\u001B[0;34m(self, goal, execute_timeout, preempt_timeout)\u001B[0m\n\u001B[1;32m    109\u001B[0m \u001B[38;5;28;01mdef\u001B[39;00m \u001B[38;5;21msend_goal_and_wait\u001B[39m(\u001B[38;5;28mself\u001B[39m, goal, execute_timeout\u001B[38;5;241m=\u001B[39mrospy\u001B[38;5;241m.\u001B[39mDuration(), preempt_timeout\u001B[38;5;241m=\u001B[39mrospy\u001B[38;5;241m.\u001B[39mDuration()):\n\u001B[1;32m    110\u001B[0m     \u001B[38;5;28mself\u001B[39m\u001B[38;5;241m.\u001B[39msend_goal(goal)\n\u001B[0;32m--> 111\u001B[0m     \u001B[38;5;28;01mif\u001B[39;00m \u001B[38;5;129;01mnot\u001B[39;00m \u001B[38;5;28;43mself\u001B[39;49m\u001B[38;5;241;43m.\u001B[39;49m\u001B[43mwait_for_result\u001B[49m\u001B[43m(\u001B[49m\u001B[43mexecute_timeout\u001B[49m\u001B[43m)\u001B[49m:\n\u001B[1;32m    112\u001B[0m         \u001B[38;5;66;03m# preempt action\u001B[39;00m\n\u001B[1;32m    113\u001B[0m         rospy\u001B[38;5;241m.\u001B[39mlogdebug(\u001B[38;5;124m\"\u001B[39m\u001B[38;5;124mCanceling goal\u001B[39m\u001B[38;5;124m\"\u001B[39m)\n\u001B[1;32m    114\u001B[0m         \u001B[38;5;28mself\u001B[39m\u001B[38;5;241m.\u001B[39mcancel_goal()\n",
      "File \u001B[0;32m/opt/ros/noetic/lib/python3/dist-packages/actionlib/simple_action_client.py:143\u001B[0m, in \u001B[0;36mSimpleActionClient.wait_for_result\u001B[0;34m(self, timeout)\u001B[0m\n\u001B[1;32m    140\u001B[0m         \u001B[38;5;28;01mif\u001B[39;00m time_left \u001B[38;5;241m>\u001B[39m loop_period \u001B[38;5;129;01mor\u001B[39;00m timeout \u001B[38;5;241m==\u001B[39m rospy\u001B[38;5;241m.\u001B[39mDuration():\n\u001B[1;32m    141\u001B[0m             time_left \u001B[38;5;241m=\u001B[39m loop_period\n\u001B[0;32m--> 143\u001B[0m         \u001B[38;5;28;43mself\u001B[39;49m\u001B[38;5;241;43m.\u001B[39;49m\u001B[43mdone_condition\u001B[49m\u001B[38;5;241;43m.\u001B[39;49m\u001B[43mwait\u001B[49m\u001B[43m(\u001B[49m\u001B[43mtime_left\u001B[49m\u001B[38;5;241;43m.\u001B[39;49m\u001B[43mto_sec\u001B[49m\u001B[43m(\u001B[49m\u001B[43m)\u001B[49m\u001B[43m)\u001B[49m\n\u001B[1;32m    145\u001B[0m \u001B[38;5;28;01mreturn\u001B[39;00m \u001B[38;5;28mself\u001B[39m\u001B[38;5;241m.\u001B[39msimple_state \u001B[38;5;241m==\u001B[39m SimpleGoalState\u001B[38;5;241m.\u001B[39mDONE\n",
      "File \u001B[0;32m/usr/lib/python3.8/threading.py:306\u001B[0m, in \u001B[0;36mCondition.wait\u001B[0;34m(self, timeout)\u001B[0m\n\u001B[1;32m    304\u001B[0m \u001B[38;5;28;01melse\u001B[39;00m:\n\u001B[1;32m    305\u001B[0m     \u001B[38;5;28;01mif\u001B[39;00m timeout \u001B[38;5;241m>\u001B[39m \u001B[38;5;241m0\u001B[39m:\n\u001B[0;32m--> 306\u001B[0m         gotit \u001B[38;5;241m=\u001B[39m \u001B[43mwaiter\u001B[49m\u001B[38;5;241;43m.\u001B[39;49m\u001B[43macquire\u001B[49m\u001B[43m(\u001B[49m\u001B[38;5;28;43;01mTrue\u001B[39;49;00m\u001B[43m,\u001B[49m\u001B[43m \u001B[49m\u001B[43mtimeout\u001B[49m\u001B[43m)\u001B[49m\n\u001B[1;32m    307\u001B[0m     \u001B[38;5;28;01melse\u001B[39;00m:\n\u001B[1;32m    308\u001B[0m         gotit \u001B[38;5;241m=\u001B[39m waiter\u001B[38;5;241m.\u001B[39macquire(\u001B[38;5;28;01mFalse\u001B[39;00m)\n",
      "\u001B[0;31mKeyboardInterrupt\u001B[0m: "
     ]
    }
   ],
   "source": [
    "# first start related scripts for BB detection and scene action reasoning\n",
    "gs.motion_goals.add_motion_goal(motion_goal_class=CloseGripper.__name__,\n",
    "                                name='openGripper',\n",
    "                                as_open=True,\n",
    "                                velocity_threshold=100,\n",
    "                                effort_threshold=1,\n",
    "                                effort=100)\n",
    "gs.motion_goals.allow_all_collisions()\n",
    "gs.add_default_end_motion_conditions()\n",
    "gs.execute()\n",
    "\n",
    "goal_pose = PoseStamped()\n",
    "goal_pose.header.frame_id = 'map'\n",
    "goal_pose.pose.orientation = Quaternion(*quaternion_from_matrix([[0, 0, 1, 0],\n",
    "                                                                 [0, -1, 0, 0],\n",
    "                                                                 [1, 0, 0, 0],\n",
    "                                                                 [0, 0, 0, 1]]))\n",
    "goal_pose.pose.position.x = 1.95\n",
    "goal_pose.pose.position.y = -0.2\n",
    "goal_pose.pose.position.z = 0.3\n",
    "\n",
    "gs.motion_goals.add_cartesian_pose(goal_pose, 'hand_palm_link', 'map')\n",
    "gs.motion_goals.allow_all_collisions()\n",
    "gs.add_default_end_motion_conditions()\n",
    "gs.execute()\n",
    "\n",
    "gs.motion_goals.add_motion_goal(motion_goal_class=CloseGripper.__name__,\n",
    "                                name='closeGripper', effort=-220)\n",
    "gs.motion_goals.allow_all_collisions()\n",
    "gs.add_default_end_motion_conditions()\n",
    "gs.execute()\n",
    "\n",
    "cup_pose = PoseStamped()\n",
    "cup_pose.header.frame_id = 'free_cup'\n",
    "cup_pose.pose.position = Point(0, 0, 0)\n",
    "cup_pose.pose.orientation.w = 1\n",
    "\n",
    "# add a new object at the pose of the pot and attach it to the right tip\n",
    "gs.world.add_box('cup1', (0.07, 0.07, 0.28), pose=cup_pose, parent_link='hand_palm_link')\n",
    "cup_pose.header.frame_id = 'free_cup2'\n",
    "gs.world.add_box('cup2', (0.07, 0.07, 0.18), pose=cup_pose, parent_link='map')\n",
    "\n",
    "# goal_pose.pose.position.x = 1.85\n",
    "# goal_pose.pose.position.y = -0.7\n",
    "# goal_pose.pose.position.z = 0.54\n",
    "# goal_pose.pose.position.x = 1.75\n",
    "# goal_pose.pose.position.y = -0.4\n",
    "# goal_pose.pose.position.z = 0.6\n",
    "goal_pose.header.frame_id = 'cup2'\n",
    "goal_pose.pose.position = Point(-0.3, 0.2, 0.3)\n",
    "# goal_pose.pose.orientation = Quaternion(*quaternion_from_matrix([[0, 0, 1, 0],\n",
    "#                                                                  [0, -1, 0, 0],\n",
    "#                                                                  [1, 0, 0, 0],\n",
    "#                                                                  [0, 0, 0, 1]]))\n",
    "tilt_axis = Vector3Stamped()\n",
    "tilt_axis.header.frame_id = 'hand_palm_link'\n",
    "tilt_axis.vector.z = 1\n",
    "gs.motion_goals.add_motion_goal(motion_goal_class='PouringAdaptiveTilt',\n",
    "                                name='pouring',\n",
    "                                tip='hand_palm_link',\n",
    "                                root='map',\n",
    "                                tilt_angle=0.3,\n",
    "                                pouring_pose=goal_pose,\n",
    "                                tilt_axis=tilt_axis,\n",
    "                                pre_tilt=False)\n",
    "gs.motion_goals.allow_all_collisions()\n",
    "gs.motion_goals.avoid_collision(0.01, 'cup1', 'cup2')\n",
    "gs.add_default_end_motion_conditions()\n",
    "gs.execute()\n",
    "\n",
    "goal_pose.header.frame_id = 'map'\n",
    "goal_pose.pose.position.x = 1.93\n",
    "goal_pose.pose.position.y = -0.2\n",
    "goal_pose.pose.position.z = 0.3\n",
    "\n",
    "gs.motion_goals.add_cartesian_pose(goal_pose, 'hand_palm_link', 'map')\n",
    "gs.motion_goals.allow_all_collisions()\n",
    "gs.add_default_end_motion_conditions()\n",
    "gs.execute()\n",
    "\n",
    "gs.motion_goals.add_motion_goal(motion_goal_class=CloseGripper.__name__,\n",
    "                                name='openGripper',\n",
    "                                as_open=True,\n",
    "                                velocity_threshold=100,\n",
    "                                effort_threshold=1,\n",
    "                                effort=100)\n",
    "gs.motion_goals.allow_all_collisions()\n",
    "gs.add_default_end_motion_conditions()\n",
    "gs.execute()\n",
    "\n",
    "goal_pose.pose.position.x = 1.4\n",
    "goal_pose.pose.position.y = -0.2\n",
    "goal_pose.pose.position.z = 0.4\n",
    "\n",
    "gs.motion_goals.add_cartesian_pose(goal_pose, 'hand_palm_link', 'map')\n",
    "gs.motion_goals.allow_all_collisions()\n",
    "gs.add_default_end_motion_conditions()\n",
    "gs.execute()"
   ],
   "metadata": {
    "collapsed": false,
    "pycharm": {
     "name": "#%%\n"
    }
   }
  },
  {
   "cell_type": "code",
   "execution_count": null,
   "outputs": [],
   "source": [],
   "metadata": {
    "collapsed": false,
    "pycharm": {
     "name": "#%%\n"
    }
   }
  }
 ],
 "metadata": {
  "kernelspec": {
   "display_name": "Python 3",
   "language": "python",
   "name": "python3"
  },
  "language_info": {
   "codemirror_mode": {
    "name": "ipython",
    "version": 2
   },
   "file_extension": ".py",
   "mimetype": "text/x-python",
   "name": "python",
   "nbconvert_exporter": "python",
   "pygments_lexer": "ipython2",
   "version": "2.7.6"
  }
 },
 "nbformat": 4,
 "nbformat_minor": 0
}